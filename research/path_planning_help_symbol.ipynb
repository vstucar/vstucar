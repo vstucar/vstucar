{
 "cells": [
  {
   "cell_type": "code",
   "execution_count": 2,
   "metadata": {},
   "outputs": [],
   "source": [
    "from sympy import *\n",
    "from sympy.solvers.inequalities import *\n",
    "init_printing(use_latex='mathjax')\n",
    "import numpy as np"
   ]
  },
  {
   "cell_type": "markdown",
   "metadata": {},
   "source": [
    "## Аналитический расчет коэффициентов полинома"
   ]
  },
  {
   "cell_type": "code",
   "execution_count": 28,
   "metadata": {},
   "outputs": [],
   "source": [
    "a = symbols('a:6') # Коэффициенты \n",
    "t = symbols('t')   # Время\n",
    "s0, ds0, dds0 = symbols('s0 ds0 dds0') # Начальное состояние\n",
    "s1, ds1, dds1 = symbols('s1 ds1 dds1') # Конечное состояние\n",
    "\n",
    "# Выражения для s(t), ds(t)/dt, d2s(t)/dt^2\n",
    "s = a[0]*t**5 + a[1]*t**4 + a[2]*t**3 + a[3]*t**2 + a[4]*t + a[5]\n",
    "ds = diff(s, t)\n",
    "dds = diff(ds, t)\n",
    "\n",
    "# Левые части\n",
    "ls0 = s.subs(t, 0) - s0\n",
    "lds0 = ds.subs(t, 0) - ds0\n",
    "ldds0 = dds.subs(t, 0) - dds0\n",
    "ls1 = s - s1\n",
    "lds1 = ds - ds1\n",
    "ldds1 = dds - dds1\n",
    "\n",
    "# Символьное решение системы уравнений\n",
    "res = solve([ls0, lds0, ldds0, ls1, lds1, ldds1], a)"
   ]
  },
  {
   "cell_type": "code",
   "execution_count": 24,
   "metadata": {},
   "outputs": [
    {
     "data": {
      "text/latex": [
       "$$a_{0} t^{5} + a_{1} t^{4} + a_{2} t^{3} + a_{3} t^{2} + a_{4} t + a_{5}$$"
      ],
      "text/plain": [
       "    5       4       3       2            \n",
       "a₀⋅t  + a₁⋅t  + a₂⋅t  + a₃⋅t  + a₄⋅t + a₅"
      ]
     },
     "execution_count": 24,
     "metadata": {},
     "output_type": "execute_result"
    }
   ],
   "source": [
    "# s(t)\n",
    "s"
   ]
  },
  {
   "cell_type": "code",
   "execution_count": 25,
   "metadata": {},
   "outputs": [
    {
     "data": {
      "text/latex": [
       "$$5 a_{0} t^{4} + 4 a_{1} t^{3} + 3 a_{2} t^{2} + 2 a_{3} t + a_{4}$$"
      ],
      "text/plain": [
       "      4         3         2              \n",
       "5⋅a₀⋅t  + 4⋅a₁⋅t  + 3⋅a₂⋅t  + 2⋅a₃⋅t + a₄"
      ]
     },
     "execution_count": 25,
     "metadata": {},
     "output_type": "execute_result"
    }
   ],
   "source": [
    "# ds(t)/dt\n",
    "ds"
   ]
  },
  {
   "cell_type": "code",
   "execution_count": 26,
   "metadata": {},
   "outputs": [
    {
     "data": {
      "text/latex": [
       "$$20 a_{0} t^{3} + 12 a_{1} t^{2} + 6 a_{2} t + 2 a_{3}$$"
      ],
      "text/plain": [
       "       3          2                \n",
       "20⋅a₀⋅t  + 12⋅a₁⋅t  + 6⋅a₂⋅t + 2⋅a₃"
      ]
     },
     "execution_count": 26,
     "metadata": {},
     "output_type": "execute_result"
    }
   ],
   "source": [
    "# d2s(t)/dt^2\n",
    "dds"
   ]
  },
  {
   "cell_type": "code",
   "execution_count": 29,
   "metadata": {},
   "outputs": [
    {
     "data": {
      "text/latex": [
       "$$\\left \\{ a_{0} : - \\frac{dds_{0} t^{2} - dds_{1} t^{2} + 6 ds_{0} t + 6 ds_{1} t + 12 s_{0} - 12 s_{1}}{2 t^{5}}, \\quad a_{1} : \\frac{3 dds_{0} t^{2} - 2 dds_{1} t^{2} + 16 ds_{0} t + 14 ds_{1} t + 30 s_{0} - 30 s_{1}}{2 t^{4}}, \\quad a_{2} : - \\frac{3 dds_{0} t^{2} - dds_{1} t^{2} + 12 ds_{0} t + 8 ds_{1} t + 20 s_{0} - 20 s_{1}}{2 t^{3}}, \\quad a_{3} : \\frac{dds_{0}}{2}, \\quad a_{4} : ds_{0}, \\quad a_{5} : s_{0}\\right \\}$$"
      ],
      "text/plain": [
       "⎧     ⎛      2         2                                    ⎞               2 \n",
       "⎪    -⎝dds₀⋅t  - dds₁⋅t  + 6⋅ds₀⋅t + 6⋅ds₁⋅t + 12⋅s₀ - 12⋅s₁⎠       3⋅dds₀⋅t  \n",
       "⎨a₀: ─────────────────────────────────────────────────────────, a₁: ──────────\n",
       "⎪                                  5                                          \n",
       "⎩                               2⋅t                                           \n",
       "\n",
       "          2                                             ⎛        2         2  \n",
       "- 2⋅dds₁⋅t  + 16⋅ds₀⋅t + 14⋅ds₁⋅t + 30⋅s₀ - 30⋅s₁      -⎝3⋅dds₀⋅t  - dds₁⋅t  +\n",
       "─────────────────────────────────────────────────, a₂: ───────────────────────\n",
       "                     4                                                        \n",
       "                  2⋅t                                                         \n",
       "\n",
       "                                   ⎞                            ⎫\n",
       " 12⋅ds₀⋅t + 8⋅ds₁⋅t + 20⋅s₀ - 20⋅s₁⎠       dds₀                 ⎪\n",
       "─────────────────────────────────────, a₃: ────, a₄: ds₀, a₅: s₀⎬\n",
       "        3                                   2                   ⎪\n",
       "     2⋅t                                                        ⎭"
      ]
     },
     "execution_count": 29,
     "metadata": {},
     "output_type": "execute_result"
    }
   ],
   "source": [
    "{key: factor(res[key]) for key in res}"
   ]
  },
  {
   "cell_type": "code",
   "execution_count": 7,
   "metadata": {},
   "outputs": [
    {
     "name": "stdout",
     "output_type": "stream",
     "text": [
      "(-12*s0 + 12*s1 + t**2*(-dds0 + dds1) - 6*t*(ds0 + ds1))/(2*t**5)\n",
      "(15*s0 - 15*s1 + t**2*(3*dds0 - 2*dds1)/2 + t*(8*ds0 + 7*ds1))/t**4\n",
      "(-20*s0 + 20*s1 + t**2*(-3*dds0 + dds1) - 4*t*(3*ds0 + 2*ds1))/(2*t**3)\n",
      "dds0/2\n",
      "ds0\n",
      "s0\n"
     ]
    }
   ],
   "source": [
    "# Выведем значения коэффициентов в обычном виде, чтобы копипастнуть их в код\n",
    "for coef in a:\n",
    "    print(res[coef])"
   ]
  },
  {
   "cell_type": "markdown",
   "metadata": {},
   "source": [
    "## Попробуем оценить необходимое время\n",
    "Просто воспользуемся равноускоренным движением"
   ]
  },
  {
   "cell_type": "code",
   "execution_count": 8,
   "metadata": {},
   "outputs": [
    {
     "data": {
      "text/latex": [
       "$$\\left [ \\left ( - \\frac{\\left(v_{0} - v_{1}\\right) \\left(v_{0} + v_{1}\\right)}{2 s}, \\quad \\frac{2 s}{v_{0} + v_{1}}\\right )\\right ]$$"
      ],
      "text/plain": [
       "⎡⎛-(v₀ - v₁)⋅(v₀ + v₁)     2⋅s  ⎞⎤\n",
       "⎢⎜─────────────────────, ───────⎟⎥\n",
       "⎣⎝         2⋅s           v₀ + v₁⎠⎦"
      ]
     },
     "execution_count": 8,
     "metadata": {},
     "output_type": "execute_result"
    }
   ],
   "source": [
    "v0, v1, s, a, t = symbols('v0 v1 s a t')\n",
    "eq1 = v0 + a*t - v1\n",
    "eq2 = v0*t + a*t**2/2 - s\n",
    "res = solve([eq1, eq2], (a, t))\n",
    "res"
   ]
  },
  {
   "cell_type": "code",
   "execution_count": 4,
   "metadata": {},
   "outputs": [
    {
     "data": {
      "text/latex": [
       "$$a t + v_{0} - v_{1}$$"
      ],
      "text/plain": [
       "a⋅t + v₀ - v₁"
      ]
     },
     "execution_count": 4,
     "metadata": {},
     "output_type": "execute_result"
    }
   ],
   "source": [
    "eq1"
   ]
  },
  {
   "cell_type": "code",
   "execution_count": 5,
   "metadata": {},
   "outputs": [
    {
     "data": {
      "text/latex": [
       "$$\\frac{a t^{2}}{2} - s + t v_{0}$$"
      ],
      "text/plain": [
       "   2           \n",
       "a⋅t            \n",
       "──── - s + t⋅v₀\n",
       " 2             "
      ]
     },
     "execution_count": 5,
     "metadata": {},
     "output_type": "execute_result"
    }
   ],
   "source": [
    "eq2"
   ]
  },
  {
   "cell_type": "code",
   "execution_count": 6,
   "metadata": {},
   "outputs": [
    {
     "data": {
      "text/latex": [
       "$$\\left [ \\left ( - \\frac{\\left(v_{0} - v_{1}\\right) \\left(v_{0} + v_{1}\\right)}{2 s}, \\quad \\frac{2 s}{v_{0} + v_{1}}\\right )\\right ]$$"
      ],
      "text/plain": [
       "⎡⎛-(v₀ - v₁)⋅(v₀ + v₁)     2⋅s  ⎞⎤\n",
       "⎢⎜─────────────────────, ───────⎟⎥\n",
       "⎣⎝         2⋅s           v₀ + v₁⎠⎦"
      ]
     },
     "execution_count": 6,
     "metadata": {},
     "output_type": "execute_result"
    }
   ],
   "source": [
    "res"
   ]
  },
  {
   "cell_type": "markdown",
   "metadata": {},
   "source": [
    "# WTF"
   ]
  },
  {
   "cell_type": "code",
   "execution_count": 31,
   "metadata": {},
   "outputs": [
    {
     "data": {
      "text/latex": [
       "$$\\left[-2, \\infty\\right)$$"
      ],
      "text/plain": [
       "[-2, ∞)"
      ]
     },
     "execution_count": 31,
     "metadata": {},
     "output_type": "execute_result"
    }
   ],
   "source": [
    "x = symbols('x')\n",
    "solve_poly_inequalities((\n",
    "    (Poly(x+2), \">=\"), \n",
    "    (Poly(x**2-1), \"<=\")\n",
    "))"
   ]
  },
  {
   "cell_type": "code",
   "execution_count": null,
   "metadata": {},
   "outputs": [],
   "source": []
  }
 ],
 "metadata": {
  "kernelspec": {
   "display_name": "Python 3",
   "language": "python",
   "name": "python3"
  },
  "language_info": {
   "codemirror_mode": {
    "name": "ipython",
    "version": 3
   },
   "file_extension": ".py",
   "mimetype": "text/x-python",
   "name": "python",
   "nbconvert_exporter": "python",
   "pygments_lexer": "ipython3",
   "version": "3.5.2"
  }
 },
 "nbformat": 4,
 "nbformat_minor": 2
}
