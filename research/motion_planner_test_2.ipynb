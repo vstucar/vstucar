{
 "cells": [
  {
   "cell_type": "code",
   "execution_count": 9,
   "metadata": {},
   "outputs": [],
   "source": [
    "import matplotlib.pyplot as plt\n",
    "import numpy as np"
   ]
  },
  {
   "cell_type": "code",
   "execution_count": 12,
   "metadata": {},
   "outputs": [],
   "source": [
    "def init_plotting(S0, S1, D0, D1):\n",
    "    fig, ax = plt.subplots(4, 2, figsize=(15, 15))\n",
    "    ax = [\n",
    "        [plt.subplot2grid((4, 2), (0, 0)), plt.subplot2grid((4, 2), (0, 1))],\n",
    "        [plt.subplot2grid((4, 2), (1, 0)), plt.subplot2grid((4, 2), (1, 1))],\n",
    "        [plt.subplot2grid((4, 2), (2, 0)), plt.subplot2grid((4, 2), (2, 1))],\n",
    "        [plt.subplot2grid((4, 2), (3, 0), colspan=2)],\n",
    "    ]\n",
    "\n",
    "    ax[0][0].set_title(\"Lateral trajectories\")\n",
    "    ax[0][0].set_xlabel(\"t, s\")\n",
    "    ax[0][0].set_ylabel(\"d, m\")\n",
    "    ax[0][0].axhline(y=D0[0], color='#000000', linewidth=1)\n",
    "    ax[0][0].axhline(y=D1[0], color='#000000', linewidth=1)\n",
    "    ax[1][0].set_xlabel(\"t, s\")\n",
    "    ax[1][0].set_ylabel(\"d', m/s\")\n",
    "    ax[1][0].axhline(y=D0[1], color='#000000', linewidth=1)\n",
    "    ax[1][0].axhline(y=D1[1], color='#000000', linewidth=1)\n",
    "    ax[2][0].set_xlabel(\"t, s\")\n",
    "    ax[2][0].set_ylabel(\"d'', m/s^2\")\n",
    "    ax[2][0].axhline(y=D0[2], color='#000000')\n",
    "    ax[2][0].axhline(y=D1[2], color='#000000')\n",
    "    ax[0][1].set_title('Longitudinal trajectories')\n",
    "    ax[0][1].set_xlabel(\"t, s\")\n",
    "    ax[0][1].set_ylabel(\"s, m\")\n",
    "    ax[0][1].axhline(y=S0[0], color='#000000', linewidth=1)\n",
    "    ax[0][1].axhline(y=S1[0], color='#000000', linewidth=1)\n",
    "    ax[1][1].set_xlabel(\"t, s\")\n",
    "    ax[1][1].set_ylabel(\"s', m/s\")\n",
    "    ax[1][1].axhline(y=S0[1], color='#000000', linewidth=1)\n",
    "    ax[1][1].axhline(y=S1[1], color='#000000', linewidth=1)\n",
    "    ax[2][1].set_xlabel(\"t, s\")\n",
    "    ax[2][1].set_ylabel(\"s'', m/s^2\")\n",
    "    ax[2][1].axhline(y=S0[2], color='#000000', linewidth=1)\n",
    "    ax[2][1].axhline(y=S1[2], color='#000000', linewidth=1)\n",
    "    ax[3][0].set_title('Combined trajectory')\n",
    "    ax[3][0].set_xlabel('s, m')\n",
    "    ax[3][0].set_ylabel('d, m')\n",
    "    ax[3][0].set_aspect('equal', adjustable='box')\n",
    "    return ax"
   ]
  },
  {
   "cell_type": "code",
   "execution_count": 77,
   "metadata": {},
   "outputs": [
    {
     "ename": "ValueError",
     "evalue": "x and y must have same first dimension, but have shapes (30,) and (2700,)",
     "output_type": "error",
     "traceback": [
      "\u001b[0;31m---------------------------------------------------------------------------\u001b[0m",
      "\u001b[0;31mValueError\u001b[0m                                Traceback (most recent call last)",
      "\u001b[0;32m<ipython-input-77-d1df83443c67>\u001b[0m in \u001b[0;36m<module>\u001b[0;34m()\u001b[0m\n\u001b[1;32m     40\u001b[0m \u001b[0;31m#ax[2][0].plot(tm, D1m[:,2], 'ro')\u001b[0m\u001b[0;34m\u001b[0m\u001b[0;34m\u001b[0m\u001b[0m\n\u001b[1;32m     41\u001b[0m \u001b[0;34m\u001b[0m\u001b[0m\n\u001b[0;32m---> 42\u001b[0;31m \u001b[0max\u001b[0m\u001b[0;34m[\u001b[0m\u001b[0;36m0\u001b[0m\u001b[0;34m]\u001b[0m\u001b[0;34m[\u001b[0m\u001b[0;36m1\u001b[0m\u001b[0;34m]\u001b[0m\u001b[0;34m.\u001b[0m\u001b[0mplot\u001b[0m\u001b[0;34m(\u001b[0m\u001b[0mtm\u001b[0m\u001b[0;34m,\u001b[0m \u001b[0mS1m\u001b[0m\u001b[0;34m[\u001b[0m\u001b[0;34m:\u001b[0m\u001b[0;34m,\u001b[0m\u001b[0;36m0\u001b[0m\u001b[0;34m]\u001b[0m\u001b[0;34m,\u001b[0m \u001b[0;34m'ro'\u001b[0m\u001b[0;34m)\u001b[0m\u001b[0;34m\u001b[0m\u001b[0m\n\u001b[0m\u001b[1;32m     43\u001b[0m \u001b[0;31m#ax[1][1].plot(tm, S1m[:,1], 'ro')\u001b[0m\u001b[0;34m\u001b[0m\u001b[0;34m\u001b[0m\u001b[0m\n\u001b[1;32m     44\u001b[0m \u001b[0;31m#ax[2][1].plot(tm, S1m[:,2], 'ro')\u001b[0m\u001b[0;34m\u001b[0m\u001b[0;34m\u001b[0m\u001b[0m\n",
      "\u001b[0;32m/home/garrus/.local/lib/python2.7/site-packages/matplotlib/__init__.pyc\u001b[0m in \u001b[0;36minner\u001b[0;34m(ax, *args, **kwargs)\u001b[0m\n\u001b[1;32m   1865\u001b[0m                         \u001b[0;34m\"the Matplotlib list!)\"\u001b[0m \u001b[0;34m%\u001b[0m \u001b[0;34m(\u001b[0m\u001b[0mlabel_namer\u001b[0m\u001b[0;34m,\u001b[0m \u001b[0mfunc\u001b[0m\u001b[0;34m.\u001b[0m\u001b[0m__name__\u001b[0m\u001b[0;34m)\u001b[0m\u001b[0;34m,\u001b[0m\u001b[0;34m\u001b[0m\u001b[0m\n\u001b[1;32m   1866\u001b[0m                         RuntimeWarning, stacklevel=2)\n\u001b[0;32m-> 1867\u001b[0;31m             \u001b[0;32mreturn\u001b[0m \u001b[0mfunc\u001b[0m\u001b[0;34m(\u001b[0m\u001b[0max\u001b[0m\u001b[0;34m,\u001b[0m \u001b[0;34m*\u001b[0m\u001b[0margs\u001b[0m\u001b[0;34m,\u001b[0m \u001b[0;34m**\u001b[0m\u001b[0mkwargs\u001b[0m\u001b[0;34m)\u001b[0m\u001b[0;34m\u001b[0m\u001b[0m\n\u001b[0m\u001b[1;32m   1868\u001b[0m \u001b[0;34m\u001b[0m\u001b[0m\n\u001b[1;32m   1869\u001b[0m         inner.__doc__ = _add_data_doc(inner.__doc__,\n",
      "\u001b[0;32m/home/garrus/.local/lib/python2.7/site-packages/matplotlib/axes/_axes.pyc\u001b[0m in \u001b[0;36mplot\u001b[0;34m(self, *args, **kwargs)\u001b[0m\n\u001b[1;32m   1526\u001b[0m         \u001b[0mkwargs\u001b[0m \u001b[0;34m=\u001b[0m \u001b[0mcbook\u001b[0m\u001b[0;34m.\u001b[0m\u001b[0mnormalize_kwargs\u001b[0m\u001b[0;34m(\u001b[0m\u001b[0mkwargs\u001b[0m\u001b[0;34m,\u001b[0m \u001b[0m_alias_map\u001b[0m\u001b[0;34m)\u001b[0m\u001b[0;34m\u001b[0m\u001b[0m\n\u001b[1;32m   1527\u001b[0m \u001b[0;34m\u001b[0m\u001b[0m\n\u001b[0;32m-> 1528\u001b[0;31m         \u001b[0;32mfor\u001b[0m \u001b[0mline\u001b[0m \u001b[0;32min\u001b[0m \u001b[0mself\u001b[0m\u001b[0;34m.\u001b[0m\u001b[0m_get_lines\u001b[0m\u001b[0;34m(\u001b[0m\u001b[0;34m*\u001b[0m\u001b[0margs\u001b[0m\u001b[0;34m,\u001b[0m \u001b[0;34m**\u001b[0m\u001b[0mkwargs\u001b[0m\u001b[0;34m)\u001b[0m\u001b[0;34m:\u001b[0m\u001b[0;34m\u001b[0m\u001b[0m\n\u001b[0m\u001b[1;32m   1529\u001b[0m             \u001b[0mself\u001b[0m\u001b[0;34m.\u001b[0m\u001b[0madd_line\u001b[0m\u001b[0;34m(\u001b[0m\u001b[0mline\u001b[0m\u001b[0;34m)\u001b[0m\u001b[0;34m\u001b[0m\u001b[0m\n\u001b[1;32m   1530\u001b[0m             \u001b[0mlines\u001b[0m\u001b[0;34m.\u001b[0m\u001b[0mappend\u001b[0m\u001b[0;34m(\u001b[0m\u001b[0mline\u001b[0m\u001b[0;34m)\u001b[0m\u001b[0;34m\u001b[0m\u001b[0m\n",
      "\u001b[0;32m/home/garrus/.local/lib/python2.7/site-packages/matplotlib/axes/_base.pyc\u001b[0m in \u001b[0;36m_grab_next_args\u001b[0;34m(self, *args, **kwargs)\u001b[0m\n\u001b[1;32m    404\u001b[0m                 \u001b[0mthis\u001b[0m \u001b[0;34m+=\u001b[0m \u001b[0margs\u001b[0m\u001b[0;34m[\u001b[0m\u001b[0;36m0\u001b[0m\u001b[0;34m]\u001b[0m\u001b[0;34m,\u001b[0m\u001b[0;34m\u001b[0m\u001b[0m\n\u001b[1;32m    405\u001b[0m                 \u001b[0margs\u001b[0m \u001b[0;34m=\u001b[0m \u001b[0margs\u001b[0m\u001b[0;34m[\u001b[0m\u001b[0;36m1\u001b[0m\u001b[0;34m:\u001b[0m\u001b[0;34m]\u001b[0m\u001b[0;34m\u001b[0m\u001b[0m\n\u001b[0;32m--> 406\u001b[0;31m             \u001b[0;32mfor\u001b[0m \u001b[0mseg\u001b[0m \u001b[0;32min\u001b[0m \u001b[0mself\u001b[0m\u001b[0;34m.\u001b[0m\u001b[0m_plot_args\u001b[0m\u001b[0;34m(\u001b[0m\u001b[0mthis\u001b[0m\u001b[0;34m,\u001b[0m \u001b[0mkwargs\u001b[0m\u001b[0;34m)\u001b[0m\u001b[0;34m:\u001b[0m\u001b[0;34m\u001b[0m\u001b[0m\n\u001b[0m\u001b[1;32m    407\u001b[0m                 \u001b[0;32myield\u001b[0m \u001b[0mseg\u001b[0m\u001b[0;34m\u001b[0m\u001b[0m\n\u001b[1;32m    408\u001b[0m \u001b[0;34m\u001b[0m\u001b[0m\n",
      "\u001b[0;32m/home/garrus/.local/lib/python2.7/site-packages/matplotlib/axes/_base.pyc\u001b[0m in \u001b[0;36m_plot_args\u001b[0;34m(self, tup, kwargs)\u001b[0m\n\u001b[1;32m    381\u001b[0m             \u001b[0mx\u001b[0m\u001b[0;34m,\u001b[0m \u001b[0my\u001b[0m \u001b[0;34m=\u001b[0m \u001b[0mindex_of\u001b[0m\u001b[0;34m(\u001b[0m\u001b[0mtup\u001b[0m\u001b[0;34m[\u001b[0m\u001b[0;34m-\u001b[0m\u001b[0;36m1\u001b[0m\u001b[0;34m]\u001b[0m\u001b[0;34m)\u001b[0m\u001b[0;34m\u001b[0m\u001b[0m\n\u001b[1;32m    382\u001b[0m \u001b[0;34m\u001b[0m\u001b[0m\n\u001b[0;32m--> 383\u001b[0;31m         \u001b[0mx\u001b[0m\u001b[0;34m,\u001b[0m \u001b[0my\u001b[0m \u001b[0;34m=\u001b[0m \u001b[0mself\u001b[0m\u001b[0;34m.\u001b[0m\u001b[0m_xy_from_xy\u001b[0m\u001b[0;34m(\u001b[0m\u001b[0mx\u001b[0m\u001b[0;34m,\u001b[0m \u001b[0my\u001b[0m\u001b[0;34m)\u001b[0m\u001b[0;34m\u001b[0m\u001b[0m\n\u001b[0m\u001b[1;32m    384\u001b[0m \u001b[0;34m\u001b[0m\u001b[0m\n\u001b[1;32m    385\u001b[0m         \u001b[0;32mif\u001b[0m \u001b[0mself\u001b[0m\u001b[0;34m.\u001b[0m\u001b[0mcommand\u001b[0m \u001b[0;34m==\u001b[0m \u001b[0;34m'plot'\u001b[0m\u001b[0;34m:\u001b[0m\u001b[0;34m\u001b[0m\u001b[0m\n",
      "\u001b[0;32m/home/garrus/.local/lib/python2.7/site-packages/matplotlib/axes/_base.pyc\u001b[0m in \u001b[0;36m_xy_from_xy\u001b[0;34m(self, x, y)\u001b[0m\n\u001b[1;32m    240\u001b[0m         \u001b[0;32mif\u001b[0m \u001b[0mx\u001b[0m\u001b[0;34m.\u001b[0m\u001b[0mshape\u001b[0m\u001b[0;34m[\u001b[0m\u001b[0;36m0\u001b[0m\u001b[0;34m]\u001b[0m \u001b[0;34m!=\u001b[0m \u001b[0my\u001b[0m\u001b[0;34m.\u001b[0m\u001b[0mshape\u001b[0m\u001b[0;34m[\u001b[0m\u001b[0;36m0\u001b[0m\u001b[0;34m]\u001b[0m\u001b[0;34m:\u001b[0m\u001b[0;34m\u001b[0m\u001b[0m\n\u001b[1;32m    241\u001b[0m             raise ValueError(\"x and y must have same first dimension, but \"\n\u001b[0;32m--> 242\u001b[0;31m                              \"have shapes {} and {}\".format(x.shape, y.shape))\n\u001b[0m\u001b[1;32m    243\u001b[0m         \u001b[0;32mif\u001b[0m \u001b[0mx\u001b[0m\u001b[0;34m.\u001b[0m\u001b[0mndim\u001b[0m \u001b[0;34m>\u001b[0m \u001b[0;36m2\u001b[0m \u001b[0;32mor\u001b[0m \u001b[0my\u001b[0m\u001b[0;34m.\u001b[0m\u001b[0mndim\u001b[0m \u001b[0;34m>\u001b[0m \u001b[0;36m2\u001b[0m\u001b[0;34m:\u001b[0m\u001b[0;34m\u001b[0m\u001b[0m\n\u001b[1;32m    244\u001b[0m             raise ValueError(\"x and y can be no greater than 2-D, but have \"\n",
      "\u001b[0;31mValueError\u001b[0m: x and y must have same first dimension, but have shapes (30,) and (2700,)"
     ]
    },
    {
     "data": {
      "image/png": "[encoded data removed]",
      "text/plain": [
       "<Figure size 1080x1080 with 7 Axes>"
      ]
     },
     "metadata": {
      "needs_background": "light"
     },
     "output_type": "display_data"
    }
   ],
   "source": [
    "def plot_point(ax, x, y):\n",
    "    ax.plot([x], [y], marker='o')\n",
    "\n",
    "def cartesian2d(x, y):\n",
    "    return np.stack(np.meshgrid(x, y), -1).reshape((-1,2))\n",
    "    \n",
    "\n",
    "S0 = np.array([0, 8, 0])\n",
    "S1 = np.array([15, 0, 0])\n",
    "D0 = np.array([0, 0, 0])\n",
    "D1 = np.array([0, 0, 0])\n",
    "t = 10\n",
    "\n",
    "ax = init_plotting(S0, S1, D0, D1)\n",
    "\n",
    "plot_point(ax[0][0], 0, D0[0])\n",
    "plot_point(ax[1][0], 0, D0[1])\n",
    "plot_point(ax[2][0], 0, D0[2])\n",
    "\n",
    "plot_point(ax[0][1], 0, S0[0])\n",
    "plot_point(ax[1][1], 0, S0[1])\n",
    "plot_point(ax[2][1], 0, S0[2])\n",
    "\n",
    "plot_point(ax[3][0], S0[0], D0[0])\n",
    "\n",
    "\n",
    "n = 30\n",
    "ds = 5.0\n",
    "dd = 5.0\n",
    "dt = 1.0\n",
    "S1r = np.linspace(S1-ds/2, S1+ds/2, n)\n",
    "D1r = np.linspace(D1-dd/2, D1+dd/2, n)\n",
    "tr = np.linspace(t-dt/2, t+dt/2, n)\n",
    "\n",
    "S1m = cartesian2d(tr, S1r)\n",
    "#D1m = cartesian2d(tr, D1r)\n",
    "\n",
    "#ax[0][0].plot(tm, D1m[:,0], 'ro')\n",
    "#ax[1][0].plot(tm, D1m[:,1], 'ro')\n",
    "#ax[2][0].plot(tm, D1m[:,2], 'ro')\n",
    "\n",
    "#ax[0][1].plot(S1m[:, S1m[:,0], 'ro')\n",
    "#ax[1][1].plot(tm, S1m[:,1], 'ro')\n",
    "#ax[2][1].plot(tm, S1m[:,2], 'ro')\n",
    "\n",
    "#ax[3][0].plot(S1m[:,0], D1m[:,0], 'ro')\n",
    "\n",
    "plt.show()"
   ]
  },
  {
   "cell_type": "code",
   "execution_count": 74,
   "metadata": {},
   "outputs": [
    {
     "data": {
      "image/png": "[encoded data removed]",
      "text/plain": [
       "<Figure size 432x288 with 1 Axes>"
      ]
     },
     "metadata": {
      "needs_background": "light"
     },
     "output_type": "display_data"
    }
   ],
   "source": [
    "def cartesian2d(x, y):\n",
    "    return np.stack(np.meshgrid(x, y), -1).reshape((-1,2))\n",
    "\n",
    "a = cartesian2d(np.linspace(1, 10, 10), np.linspace(10, 20, 10))\n",
    "plt.plot(a[:,0], a[:,1], 'ro')\n",
    "plt.show()"
   ]
  },
  {
   "cell_type": "code",
   "execution_count": 86,
   "metadata": {},
   "outputs": [
    {
     "name": "stdout",
     "output_type": "stream",
     "text": [
      "30\n",
      "30\n"
     ]
    },
    {
     "ename": "ValueError",
     "evalue": "cannot reshape array of size 5400 into shape (3,30,30)",
     "output_type": "error",
     "traceback": [
      "\u001b[0;31m---------------------------------------------------------------------------\u001b[0m",
      "\u001b[0;31mValueError\u001b[0m                                Traceback (most recent call last)",
      "\u001b[0;32m<ipython-input-86-6b452ed2b46c>\u001b[0m in \u001b[0;36m<module>\u001b[0;34m()\u001b[0m\n\u001b[1;32m      8\u001b[0m     \u001b[0;32mreturn\u001b[0m \u001b[0mnp\u001b[0m\u001b[0;34m.\u001b[0m\u001b[0mstack\u001b[0m\u001b[0;34m(\u001b[0m\u001b[0mnp\u001b[0m\u001b[0;34m.\u001b[0m\u001b[0mmeshgrid\u001b[0m\u001b[0;34m(\u001b[0m\u001b[0mx\u001b[0m\u001b[0;34m,\u001b[0m \u001b[0my\u001b[0m\u001b[0;34m)\u001b[0m\u001b[0;34m,\u001b[0m \u001b[0;34m-\u001b[0m\u001b[0;36m1\u001b[0m\u001b[0;34m)\u001b[0m\u001b[0;34m.\u001b[0m\u001b[0mreshape\u001b[0m\u001b[0;34m(\u001b[0m\u001b[0;34m(\u001b[0m\u001b[0;36m3\u001b[0m\u001b[0;34m,\u001b[0m \u001b[0;36m30\u001b[0m\u001b[0;34m,\u001b[0m \u001b[0;36m30\u001b[0m\u001b[0;34m)\u001b[0m\u001b[0;34m)\u001b[0m\u001b[0;34m\u001b[0m\u001b[0m\n\u001b[1;32m      9\u001b[0m \u001b[0;34m\u001b[0m\u001b[0m\n\u001b[0;32m---> 10\u001b[0;31m \u001b[0ma\u001b[0m \u001b[0;34m=\u001b[0m \u001b[0mcartesian3d\u001b[0m\u001b[0;34m(\u001b[0m\u001b[0mtr\u001b[0m\u001b[0;34m,\u001b[0m \u001b[0mS1r\u001b[0m\u001b[0;34m)\u001b[0m\u001b[0;34m\u001b[0m\u001b[0m\n\u001b[0m\u001b[1;32m     11\u001b[0m \u001b[0;32mprint\u001b[0m\u001b[0;34m(\u001b[0m\u001b[0ma\u001b[0m\u001b[0;34m.\u001b[0m\u001b[0mshape\u001b[0m\u001b[0;34m)\u001b[0m\u001b[0;34m\u001b[0m\u001b[0m\n",
      "\u001b[0;32m<ipython-input-86-6b452ed2b46c>\u001b[0m in \u001b[0;36mcartesian3d\u001b[0;34m(x, y)\u001b[0m\n\u001b[1;32m      6\u001b[0m \u001b[0;34m\u001b[0m\u001b[0m\n\u001b[1;32m      7\u001b[0m \u001b[0;32mdef\u001b[0m \u001b[0mcartesian3d\u001b[0m\u001b[0;34m(\u001b[0m\u001b[0mx\u001b[0m\u001b[0;34m,\u001b[0m \u001b[0my\u001b[0m\u001b[0;34m)\u001b[0m\u001b[0;34m:\u001b[0m\u001b[0;34m\u001b[0m\u001b[0m\n\u001b[0;32m----> 8\u001b[0;31m     \u001b[0;32mreturn\u001b[0m \u001b[0mnp\u001b[0m\u001b[0;34m.\u001b[0m\u001b[0mstack\u001b[0m\u001b[0;34m(\u001b[0m\u001b[0mnp\u001b[0m\u001b[0;34m.\u001b[0m\u001b[0mmeshgrid\u001b[0m\u001b[0;34m(\u001b[0m\u001b[0mx\u001b[0m\u001b[0;34m,\u001b[0m \u001b[0my\u001b[0m\u001b[0;34m)\u001b[0m\u001b[0;34m,\u001b[0m \u001b[0;34m-\u001b[0m\u001b[0;36m1\u001b[0m\u001b[0;34m)\u001b[0m\u001b[0;34m.\u001b[0m\u001b[0mreshape\u001b[0m\u001b[0;34m(\u001b[0m\u001b[0;34m(\u001b[0m\u001b[0;36m3\u001b[0m\u001b[0;34m,\u001b[0m \u001b[0;36m30\u001b[0m\u001b[0;34m,\u001b[0m \u001b[0;36m30\u001b[0m\u001b[0;34m)\u001b[0m\u001b[0;34m)\u001b[0m\u001b[0;34m\u001b[0m\u001b[0m\n\u001b[0m\u001b[1;32m      9\u001b[0m \u001b[0;34m\u001b[0m\u001b[0m\n\u001b[1;32m     10\u001b[0m \u001b[0ma\u001b[0m \u001b[0;34m=\u001b[0m \u001b[0mcartesian3d\u001b[0m\u001b[0;34m(\u001b[0m\u001b[0mtr\u001b[0m\u001b[0;34m,\u001b[0m \u001b[0mS1r\u001b[0m\u001b[0;34m)\u001b[0m\u001b[0;34m\u001b[0m\u001b[0m\n",
      "\u001b[0;31mValueError\u001b[0m: cannot reshape array of size 5400 into shape (3,30,30)"
     ]
    }
   ],
   "source": [
    "S1r = np.linspace(S1-ds/2, S1+ds/2, n)\n",
    "tr = np.linspace(t-dt/2, t+dt/2, n)\n",
    "\n",
    "print(len(S1r))\n",
    "print(len(tr))\n",
    "\n",
    "def cartesian3d(x, y):\n",
    "    return np.stack(np.meshgrid(x, y), -1).reshape((3, 30, 30))\n",
    "\n",
    "a = cartesian3d(tr, S1r)\n",
    "print(a.shape)"
   ]
  },
  {
   "cell_type": "code",
   "execution_count": 110,
   "metadata": {},
   "outputs": [
    {
     "name": "stdout",
     "output_type": "stream",
     "text": [
      "uniq 1000\n",
      "d    1000\n",
      "s    1000\n",
      "comb 1000\n"
     ]
    }
   ],
   "source": [
    "ts = np.linspace(1, 10, 10)\n",
    "ss = np.linspace(1, 10, 10)\n",
    "ds = np.linspace(1, 10, 10)\n",
    "\n",
    "uniq = []\n",
    "gen_d = 0\n",
    "gen_s = 0\n",
    "comb = 0\n",
    "\n",
    "for t in ts:\n",
    "    for d in ds:\n",
    "        for s in ss:\n",
    "            gen_s += 1\n",
    "            gen_d += 1\n",
    "            comb += 1\n",
    "            p = (t, d, s)\n",
    "            if p not in uniq:\n",
    "                uniq.append(p)\n",
    "                \n",
    "print('uniq %d' % len(uniq))\n",
    "print('d    %d' % gen_d)\n",
    "print('s    %d' % gen_s)\n",
    "print('comb %d' % comb)"
   ]
  },
  {
   "cell_type": "code",
   "execution_count": 114,
   "metadata": {},
   "outputs": [
    {
     "name": "stdout",
     "output_type": "stream",
     "text": [
      "uniq 1000\n",
      "d    100\n",
      "s    100\n",
      "comb 1000\n"
     ]
    }
   ],
   "source": [
    "ts = np.linspace(1, 10, 10)\n",
    "ss = np.linspace(1, 10, 10)\n",
    "ds = np.linspace(1, 10, 10)\n",
    "\n",
    "uniq = []\n",
    "gen_d = 0\n",
    "gen_s = 0\n",
    "comb = 0\n",
    "\n",
    "for t in ts:\n",
    "    d_ = []\n",
    "    for d in ds:\n",
    "        gen_d += 1\n",
    "        d_.append(d)\n",
    "    \n",
    "    for s in ts:\n",
    "        gen_s += 1\n",
    "        \n",
    "        for d in d_:            \n",
    "            comb += 1\n",
    "            p = (t, d, s)\n",
    "            if p not in uniq:\n",
    "                uniq.append(p)\n",
    "                \n",
    "print('uniq %d' % len(uniq))\n",
    "print('d    %d' % gen_d)\n",
    "print('s    %d' % gen_s)\n",
    "print('comb %d' % comb)"
   ]
  },
  {
   "cell_type": "code",
   "execution_count": 116,
   "metadata": {},
   "outputs": [
    {
     "name": "stdout",
     "output_type": "stream",
     "text": [
      "uniq 1000\n",
      "d    1000\n",
      "s    100\n",
      "comb 1000\n"
     ]
    }
   ],
   "source": [
    "ts = np.linspace(1, 10, 10)\n",
    "ss = np.linspace(1, 10, 10)\n",
    "ds = np.linspace(1, 10, 10)\n",
    "\n",
    "\n",
    "uniq = []\n",
    "gen_d = 0\n",
    "gen_s = 0\n",
    "comb = 0\n",
    "\n",
    "for s in ts:\n",
    "    ts = np.linspace(s*1000+1, s*1000+10, 10)\n",
    "    for t in ts:\n",
    "        gen_s += 1\n",
    "        for d in ds:\n",
    "            gen_d += 1\n",
    "            comb += 1\n",
    "            p = (t, d, s)\n",
    "            if p not in uniq:\n",
    "                uniq.append(p)\n",
    "                \n",
    "print('uniq %d' % len(uniq))\n",
    "print('d    %d' % gen_d)\n",
    "print('s    %d' % gen_s)\n",
    "print('comb %d' % comb)"
   ]
  },
  {
   "cell_type": "code",
   "execution_count": null,
   "metadata": {},
   "outputs": [],
   "source": []
  },
  {
   "cell_type": "code",
   "execution_count": 148,
   "metadata": {},
   "outputs": [
    {
     "name": "stdout",
     "output_type": "stream",
     "text": [
      "3\n",
      "2\n",
      "[ 0. 30.]\n",
      "[ 0. 25. 50.]\n"
     ]
    }
   ],
   "source": [
    "start = 0.0\n",
    "end = 50.0\n",
    "step = 30\n",
    "eps = 0.001\n",
    "\n",
    "cnt = int((end-start) // step + 1)\n",
    "last = start + (cnt - 1)*step\n",
    "if abs(last - end) <= eps:\n",
    "    mrng = start + np.array(range(cnt))*step\n",
    "else:\n",
    "    new_step = (end - start) / cnt\n",
    "    mrng = start + np.array(range(cnt+1))*new_step\n",
    "    #mrng = np.linspace(start, end, cnt)\n",
    "    \n",
    "rng = np.arange(start, end, step)\n",
    "\n",
    "print(len(mrng))\n",
    "print(len(rng))\n",
    "print(rng)\n",
    "print(mrng)"
   ]
  },
  {
   "cell_type": "code",
   "execution_count": 124,
   "metadata": {},
   "outputs": [
    {
     "ename": "AttributeError",
     "evalue": "'module' object has no attribute 'range'",
     "output_type": "error",
     "traceback": [
      "\u001b[0;31m---------------------------------------------------------------------------\u001b[0m",
      "\u001b[0;31mAttributeError\u001b[0m                            Traceback (most recent call last)",
      "\u001b[0;32m<ipython-input-124-d27d6aae7bd6>\u001b[0m in \u001b[0;36m<module>\u001b[0;34m()\u001b[0m\n\u001b[0;32m----> 1\u001b[0;31m \u001b[0mnp\u001b[0m\u001b[0;34m.\u001b[0m\u001b[0mrange\u001b[0m\u001b[0;34m\u001b[0m\u001b[0m\n\u001b[0m",
      "\u001b[0;31mAttributeError\u001b[0m: 'module' object has no attribute 'range'"
     ]
    }
   ],
   "source": [
    "np.range"
   ]
  },
  {
   "cell_type": "code",
   "execution_count": null,
   "metadata": {},
   "outputs": [],
   "source": []
  }
 ],
 "metadata": {
  "kernelspec": {
   "display_name": "Python 2",
   "language": "python",
   "name": "python2"
  },
  "language_info": {
   "codemirror_mode": {
    "name": "ipython",
    "version": 2
   },
   "file_extension": ".py",
   "mimetype": "text/x-python",
   "name": "python",
   "nbconvert_exporter": "python",
   "pygments_lexer": "ipython2",
   "version": "2.7.12"
  }
 },
 "nbformat": 4,
 "nbformat_minor": 2
}
